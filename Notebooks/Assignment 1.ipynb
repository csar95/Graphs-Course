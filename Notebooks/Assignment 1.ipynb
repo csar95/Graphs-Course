{
 "cells": [
  {
   "cell_type": "markdown",
   "metadata": {},
   "source": [
    "---\n",
    "\n",
    "_You are currently looking at **version 1.1** of this notebook. To download notebooks and datafiles, as well as get help on Jupyter notebooks in the Coursera platform, visit the [Jupyter Notebook FAQ](https://www.coursera.org/learn/python-social-network-analysis/resources/yPcBs) course resource._\n",
    "\n",
    "---"
   ]
  },
  {
   "cell_type": "markdown",
   "metadata": {},
   "source": [
    "# Assignment 1 - Creating and Manipulating Graphs\n",
    "\n",
    "Eight employees at a small company were asked to choose 3 movies that they would most enjoy watching for the upcoming company movie night. These choices are stored in the file `Employee_Movie_Choices.txt`.\n",
    "\n",
    "A second file, `Employee_Relationships.txt`, has data on the relationships between different coworkers. \n",
    "\n",
    "The relationship score has value of `-100` (Enemies) to `+100` (Best Friends). A value of zero means the two employees haven't interacted or are indifferent.\n",
    "\n",
    "Both files are tab delimited."
   ]
  },
  {
   "cell_type": "code",
   "execution_count": 1,
   "metadata": {},
   "outputs": [],
   "source": [
    "import networkx as nx\n",
    "import pandas as pd\n",
    "import numpy as np\n",
    "from networkx.algorithms import bipartite\n",
    "\n",
    "\n",
    "# This is the set of employees\n",
    "employees = set(['Pablo',\n",
    "                 'Lee',\n",
    "                 'Georgia',\n",
    "                 'Vincent',\n",
    "                 'Andy',\n",
    "                 'Frida',\n",
    "                 'Joan',\n",
    "                 'Claude'])\n",
    "\n",
    "# This is the set of movies\n",
    "movies = set(['The Shawshank Redemption',\n",
    "              'Forrest Gump',\n",
    "              'The Matrix',\n",
    "              'Anaconda',\n",
    "              'The Social Network',\n",
    "              'The Godfather',\n",
    "              'Monty Python and the Holy Grail',\n",
    "              'Snakes on a Plane',\n",
    "              'Kung Fu Panda',\n",
    "              'The Dark Knight',\n",
    "              'Mean Girls'])\n",
    "\n",
    "\n",
    "# you can use the following function to plot graphs\n",
    "# make sure to comment it out before submitting to the autograder\n",
    "def plot_graph(G, weight_name=None):\n",
    "    '''\n",
    "    G: a networkx G\n",
    "    weight_name: name of the attribute for plotting edge weights (if G is weighted)\n",
    "    '''\n",
    "    %matplotlib notebook\n",
    "    import matplotlib.pyplot as plt\n",
    "    \n",
    "    plt.figure()\n",
    "    pos = nx.spring_layout(G)\n",
    "    edges = G.edges()\n",
    "    weights = None\n",
    "    \n",
    "    if weight_name:\n",
    "        weights = [int(G[u][v][weight_name]) for u,v in edges]\n",
    "        labels = nx.get_edge_attributes(G,weight_name)\n",
    "        nx.draw_networkx_edge_labels(G,pos,edge_labels=labels)\n",
    "        nx.draw_networkx(G, pos, edges=edges, width=weights);\n",
    "    else:\n",
    "        nx.draw_networkx(G, pos, edges=edges);"
   ]
  },
  {
   "cell_type": "markdown",
   "metadata": {},
   "source": [
    "### Question 1\n",
    "\n",
    "Using NetworkX, load in the bipartite graph from `Employee_Movie_Choices.txt` and return that graph.\n",
    "\n",
    "*This function should return a networkx graph with 19 nodes and 24 edges*"
   ]
  },
  {
   "cell_type": "code",
   "execution_count": 2,
   "metadata": {},
   "outputs": [
    {
     "name": "stdout",
     "output_type": "stream",
     "text": [
      "#Employee\tMovie\n",
      "Andy\tAnaconda\n",
      "Andy\tMean Girls\n",
      "Andy\tThe Matrix\n",
      "Claude\tAnaconda\n",
      "Claude\tMonty Python and the Holy Grail\n",
      "Claude\tSnakes on a Plane\n",
      "Frida\tThe Matrix\n",
      "Frida\tThe Shawshank Redemption\n",
      "Frida\tThe Social Network\n",
      "Georgia\tAnaconda\n",
      "Georgia\tMonty Python and the Holy Grail\n",
      "Georgia\tSnakes on a Plane\n",
      "Joan\tForrest Gump\n",
      "Joan\tKung Fu Panda\n",
      "Joan\tMean Girls\n",
      "Lee\tForrest Gump\n",
      "Lee\tKung Fu Panda\n",
      "Lee\tMean Girls\n",
      "Pablo\tThe Dark Knight\n",
      "Pablo\tThe Matrix\n",
      "Pablo\tThe Shawshank Redemption\n",
      "Vincent\tThe Godfather\n",
      "Vincent\tThe Shawshank Redemption\n",
      "Vincent\tThe Social Network\n"
     ]
    }
   ],
   "source": [
    "!cat Employee_Movie_Choices.txt"
   ]
  },
  {
   "cell_type": "code",
   "execution_count": 1,
   "metadata": {},
   "outputs": [],
   "source": [
    "def answer_one():\n",
    "    G = nx.read_edgelist('Employee_Movie_Choices.txt', comments='#', delimiter='\\t')\n",
    "    return G"
   ]
  },
  {
   "cell_type": "markdown",
   "metadata": {},
   "source": [
    "### Question 2\n",
    "\n",
    "Using the graph from the previous question, add nodes attributes named `'type'` where movies have the value `'movie'` and employees have the value `'employee'` and return that graph.\n",
    "\n",
    "*This function should return a networkx graph with node attributes `{'type': 'movie'}` or `{'type': 'employee'}`*"
   ]
  },
  {
   "cell_type": "code",
   "execution_count": 4,
   "metadata": {},
   "outputs": [],
   "source": [
    "def answer_two():\n",
    "    \n",
    "    G1 = answer_one()\n",
    "    \n",
    "    if bipartite.is_bipartite(G1):\n",
    "        tmp = bipartite.sets(G1)\n",
    "        if 'Andy' in tmp[0]:\n",
    "            for emp in tmp[0]:\n",
    "                G1.node[emp]['type'] = 'employee'\n",
    "            for mov in tmp[1]:\n",
    "                G1.node[mov]['type'] = 'movie'\n",
    "        else:\n",
    "            for mov in tmp[0]:\n",
    "                G1.node[mov]['type'] = 'movie'\n",
    "            for emp in tmp[1]:\n",
    "                G1.node[emp]['type'] = 'employee'\n",
    "    \n",
    "    return G1"
   ]
  },
  {
   "cell_type": "markdown",
   "metadata": {},
   "source": [
    "### Question 3\n",
    "\n",
    "Find a weighted projection of the graph from `answer_two` which tells us how many movies different pairs of employees have in common.\n",
    "\n",
    "*This function should return a weighted projected graph.*"
   ]
  },
  {
   "cell_type": "code",
   "execution_count": 5,
   "metadata": {},
   "outputs": [],
   "source": [
    "def answer_three():\n",
    "        \n",
    "    G2 = answer_two()\n",
    "    \n",
    "    tmp = bipartite.sets(G2)\n",
    "    if 'Andy' in tmp[0]:\n",
    "        G3 = bipartite.weighted_projected_graph(G2, tmp[0])\n",
    "    else:\n",
    "        G3 = bipartite.weighted_projected_graph(G2, tmp[1])\n",
    "    \n",
    "    return G3"
   ]
  },
  {
   "cell_type": "markdown",
   "metadata": {},
   "source": [
    "### Question 4\n",
    "\n",
    "Suppose you'd like to find out if people that have a high relationship score also like the same types of movies.\n",
    "\n",
    "Find the Pearson correlation ( using `DataFrame.corr()` ) between employee relationship scores and the number of movies they have in common. If two employees have no movies in common it should be treated as a 0, not a missing value, and should be included in the correlation calculation.\n",
    "\n",
    "*This function should return a float.*"
   ]
  },
  {
   "cell_type": "code",
   "execution_count": 6,
   "metadata": {},
   "outputs": [
    {
     "name": "stdout",
     "output_type": "stream",
     "text": [
      "Andy\tClaude\t0\n",
      "Andy\tFrida\t20\n",
      "Andy\tGeorgia\t-10\n",
      "Andy\tJoan\t30\n",
      "Andy\tLee\t-10\n",
      "Andy\tPablo\t-10\n",
      "Andy\tVincent\t20\n",
      "Claude\tFrida\t0\n",
      "Claude\tGeorgia\t90\n",
      "Claude\tJoan\t0\n",
      "Claude\tLee\t0\n",
      "Claude\tPablo\t10\n",
      "Claude\tVincent\t0\n",
      "Frida\tGeorgia\t0\n",
      "Frida\tJoan\t0\n",
      "Frida\tLee\t0\n",
      "Frida\tPablo\t50\n",
      "Frida\tVincent\t60\n",
      "Georgia\tJoan\t0\n",
      "Georgia\tLee\t10\n",
      "Georgia\tPablo\t0\n",
      "Georgia\tVincent\t0\n",
      "Joan\tLee\t70\n",
      "Joan\tPablo\t0\n",
      "Joan\tVincent\t10\n",
      "Lee\tPablo\t0\n",
      "Lee\tVincent\t0\n",
      "Pablo\tVincent\t-20\n"
     ]
    }
   ],
   "source": [
    "!cat Employee_Relationships.txt"
   ]
  },
  {
   "cell_type": "code",
   "execution_count": 7,
   "metadata": {},
   "outputs": [],
   "source": [
    "def answer_four():\n",
    "        \n",
    "    employee_relationships = pd.read_csv('Employee_Relationships.txt', delimiter='\\t', header=None, names=['employee1', 'employee2', 'rel_score'])\n",
    "\n",
    "    G3 = answer_three()\n",
    "    \n",
    "    df = pd.DataFrame(G3.edges(data=True), columns=['employee1', 'employee2', 'n_mov_common'])\n",
    "    df['n_mov_common'] = df['n_mov_common'].map(lambda x : x['weight'])\n",
    "\n",
    "    result_df = employee_relationships.merge(df, left_on=['employee1', 'employee2'], right_on=['employee1', 'employee2'], how='left').\\\n",
    "                                       merge(df, left_on=['employee1', 'employee2'], right_on=['employee2', 'employee1'], how='left')\n",
    "\n",
    "    result_df['n_mov_common'] = result_df['n_mov_common_x'].fillna(result_df['n_mov_common_y']).fillna(0).astype('int')\n",
    "\n",
    "    result_df = result_df.drop(labels=['employee1_y','employee2_y','n_mov_common_x','n_mov_common_y'], axis=1).\\\n",
    "                          rename(columns={'employee1_x':'employee1','employee2_x':'employee2'})\n",
    "    \n",
    "    return result_df.corr()['rel_score']['n_mov_common']"
   ]
  },
  {
   "cell_type": "code",
   "execution_count": 8,
   "metadata": {},
   "outputs": [
    {
     "data": {
      "text/plain": [
       "0.7883962221733476"
      ]
     },
     "execution_count": 8,
     "metadata": {},
     "output_type": "execute_result"
    }
   ],
   "source": [
    "answer_four()"
   ]
  },
  {
   "cell_type": "code",
   "execution_count": null,
   "metadata": {},
   "outputs": [],
   "source": []
  }
 ],
 "metadata": {
  "coursera": {
   "course_slug": "python-social-network-analysis",
   "graded_item_id": "YNa9b",
   "launcher_item_id": "hvNc1",
   "part_id": "VbyiB"
  },
  "kernelspec": {
   "display_name": "Python 3",
   "language": "python",
   "name": "python3"
  },
  "language_info": {
   "codemirror_mode": {
    "name": "ipython",
    "version": 3
   },
   "file_extension": ".py",
   "mimetype": "text/x-python",
   "name": "python",
   "nbconvert_exporter": "python",
   "pygments_lexer": "ipython3",
   "version": "3.8.5"
  }
 },
 "nbformat": 4,
 "nbformat_minor": 4
}
